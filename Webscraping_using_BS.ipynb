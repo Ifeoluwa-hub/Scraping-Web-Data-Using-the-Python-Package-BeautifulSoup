{
  "nbformat": 4,
  "nbformat_minor": 0,
  "metadata": {
    "colab": {
      "provenance": [],
      "authorship_tag": "ABX9TyOUcuBXmXsoySvXkK07SlF2"
    },
    "kernelspec": {
      "name": "python3",
      "display_name": "Python 3"
    },
    "language_info": {
      "name": "python"
    }
  },
  "cells": [
    {
      "cell_type": "markdown",
      "source": [
        "Trying out BeautifulSoup for webscraping"
      ],
      "metadata": {
        "id": "hLAkoQCm2j_D"
      }
    },
    {
      "cell_type": "code",
      "execution_count": null,
      "metadata": {
        "id": "cVshDCO3eBsX"
      },
      "outputs": [],
      "source": [
        "import requests\n",
        "from bs4 import BeautifulSoup\n",
        "import pandas as pd"
      ]
    },
    {
      "cell_type": "code",
      "source": [
        "url = \"http://books.toscrape.com/\"\n",
        "response = requests.get(url)\n",
        "soup = BeautifulSoup(response.content, \"html.parser\")"
      ],
      "metadata": {
        "id": "hvfgTRuveqVn"
      },
      "execution_count": null,
      "outputs": []
    },
    {
      "cell_type": "code",
      "source": [
        "# find all info you need by passing in the element type and the class\n",
        "books_html = soup.find_all(\"article\", class_=\"product_pod\")\n",
        "len(books_html)"
      ],
      "metadata": {
        "colab": {
          "base_uri": "https://localhost:8080/"
        },
        "id": "ewk9VgdLjujd",
        "outputId": "3a04db25-2e6c-4f21-a097-b2f376cf2b84"
      },
      "execution_count": null,
      "outputs": [
        {
          "output_type": "execute_result",
          "data": {
            "text/plain": [
              "20"
            ]
          },
          "metadata": {},
          "execution_count": 10
        }
      ]
    },
    {
      "cell_type": "code",
      "source": [
        "books_html[0]"
      ],
      "metadata": {
        "colab": {
          "base_uri": "https://localhost:8080/"
        },
        "id": "fSFwzp9MmC7R",
        "outputId": "7597735d-c68f-4f05-c49b-2f5579fe5a4a"
      },
      "execution_count": null,
      "outputs": [
        {
          "output_type": "execute_result",
          "data": {
            "text/plain": [
              "<article class=\"product_pod\">\n",
              "<div class=\"image_container\">\n",
              "<a href=\"catalogue/a-light-in-the-attic_1000/index.html\"><img alt=\"A Light in the Attic\" class=\"thumbnail\" src=\"media/cache/2c/da/2cdad67c44b002e7ead0cc35693c0e8b.jpg\"/></a>\n",
              "</div>\n",
              "<p class=\"star-rating Three\">\n",
              "<i class=\"icon-star\"></i>\n",
              "<i class=\"icon-star\"></i>\n",
              "<i class=\"icon-star\"></i>\n",
              "<i class=\"icon-star\"></i>\n",
              "<i class=\"icon-star\"></i>\n",
              "</p>\n",
              "<h3><a href=\"catalogue/a-light-in-the-attic_1000/index.html\" title=\"A Light in the Attic\">A Light in the ...</a></h3>\n",
              "<div class=\"product_price\">\n",
              "<p class=\"price_color\">£51.77</p>\n",
              "<p class=\"instock availability\">\n",
              "<i class=\"icon-ok\"></i>\n",
              "    \n",
              "        In stock\n",
              "    \n",
              "</p>\n",
              "<form>\n",
              "<button class=\"btn btn-primary btn-block\" data-loading-text=\"Adding...\" type=\"submit\">Add to basket</button>\n",
              "</form>\n",
              "</div>\n",
              "</article>"
            ]
          },
          "metadata": {},
          "execution_count": 11
        }
      ]
    },
    {
      "cell_type": "code",
      "source": [
        "# from the html, the book title is in element h3 and element type a\n",
        "title = books_html[0].find(\"h3\").find(\"a\").attrs[\"title\"]\n",
        "price = float(books_html[0].find(\"div\", class_=\"product_price\").find(\"p\", class_=\"price_color\").string[1:])\n",
        "# availabilty = books_html[0].find(\"div\", class_=\"product_price\").find(\"p\", class_=\"instock availability\").find(\"i\", class_=\"icon-ok\").text[10:]\n",
        "rating = books_html[0].find(\"p\", class_=\"star-rating\").attrs['class']"
      ],
      "metadata": {
        "id": "Agm2TFgsm79K"
      },
      "execution_count": null,
      "outputs": []
    },
    {
      "cell_type": "code",
      "source": [
        "def parse_rating(rating_list):\n",
        "    '''\n",
        "    recieve a list item containing rating information and return the rating as an integer'''\n",
        "    if 'One' in rating:\n",
        "        return 1\n",
        "    elif 'Two' in rating:\n",
        "      return 2\n",
        "    elif 'Three' in rating:\n",
        "      return 3\n",
        "    elif 'Four' in rating:\n",
        "      return 4\n",
        "    elif 'Five' in rating:\n",
        "      return 5\n",
        "    else: \n",
        "      return 0\n",
        "    \n",
        "    "
      ],
      "metadata": {
        "id": "IdeO6wiGny8Y"
      },
      "execution_count": null,
      "outputs": []
    },
    {
      "cell_type": "code",
      "source": [
        "books_dict = {\"Title\": [], \"Price\": [], \"Rating\": []}\n",
        "\n",
        "for book in soup.find_all(\"article\", class_=\"product_pod\"):\n",
        "  books_dict[\"Title\"].append(book.find(\"h3\").find(\"a\").attrs[\"title\"])\n",
        "  books_dict[\"Price\"].append(float(book.find(\"div\", class_=\"product_price\").find(\"p\", class_=\"price_color\").string[1:]))\n",
        "  books_dict[\"Rating\"].append(parse_rating(book.find(\"p\", class_=\"star-rating\").attrs['class']))"
      ],
      "metadata": {
        "id": "KrehoMfKqpLN"
      },
      "execution_count": null,
      "outputs": []
    },
    {
      "cell_type": "code",
      "source": [
        "books_dict"
      ],
      "metadata": {
        "colab": {
          "base_uri": "https://localhost:8080/"
        },
        "id": "T18gcSjdvPMh",
        "outputId": "1493238a-87e5-45a3-826b-657c75dc204c"
      },
      "execution_count": null,
      "outputs": [
        {
          "output_type": "execute_result",
          "data": {
            "text/plain": [
              "{'Title': ['A Light in the Attic',\n",
              "  'Tipping the Velvet',\n",
              "  'Soumission',\n",
              "  'Sharp Objects',\n",
              "  'Sapiens: A Brief History of Humankind',\n",
              "  'The Requiem Red',\n",
              "  'The Dirty Little Secrets of Getting Your Dream Job',\n",
              "  'The Coming Woman: A Novel Based on the Life of the Infamous Feminist, Victoria Woodhull',\n",
              "  'The Boys in the Boat: Nine Americans and Their Epic Quest for Gold at the 1936 Berlin Olympics',\n",
              "  'The Black Maria',\n",
              "  'Starving Hearts (Triangular Trade Trilogy, #1)',\n",
              "  \"Shakespeare's Sonnets\",\n",
              "  'Set Me Free',\n",
              "  \"Scott Pilgrim's Precious Little Life (Scott Pilgrim #1)\",\n",
              "  'Rip it Up and Start Again',\n",
              "  'Our Band Could Be Your Life: Scenes from the American Indie Underground, 1981-1991',\n",
              "  'Olio',\n",
              "  'Mesaerion: The Best Science Fiction Stories 1800-1849',\n",
              "  'Libertarianism for Beginners',\n",
              "  \"It's Only the Himalayas\"],\n",
              " 'Price': [51.77,\n",
              "  53.74,\n",
              "  50.1,\n",
              "  47.82,\n",
              "  54.23,\n",
              "  22.65,\n",
              "  33.34,\n",
              "  17.93,\n",
              "  22.6,\n",
              "  52.15,\n",
              "  13.99,\n",
              "  20.66,\n",
              "  17.46,\n",
              "  52.29,\n",
              "  35.02,\n",
              "  57.25,\n",
              "  23.88,\n",
              "  37.59,\n",
              "  51.33,\n",
              "  45.17],\n",
              " 'Rating': [3, 1, 1, 4, 5, 1, 4, 3, 4, 1, 2, 4, 5, 5, 5, 3, 1, 1, 2, 2]}"
            ]
          },
          "metadata": {},
          "execution_count": 45
        }
      ]
    },
    {
      "cell_type": "code",
      "source": [
        "books_df = pd.DataFrame(books_dict)\n",
        "books_df"
      ],
      "metadata": {
        "colab": {
          "base_uri": "https://localhost:8080/",
          "height": 677
        },
        "id": "BN6ftOvBxKmo",
        "outputId": "4afa07b7-1c85-4c39-f81c-2748fe7a4a6c"
      },
      "execution_count": null,
      "outputs": [
        {
          "output_type": "execute_result",
          "data": {
            "text/plain": [
              "                                                Title  Price  Rating\n",
              "0                                A Light in the Attic  51.77       3\n",
              "1                                  Tipping the Velvet  53.74       1\n",
              "2                                          Soumission  50.10       1\n",
              "3                                       Sharp Objects  47.82       4\n",
              "4               Sapiens: A Brief History of Humankind  54.23       5\n",
              "5                                     The Requiem Red  22.65       1\n",
              "6   The Dirty Little Secrets of Getting Your Dream...  33.34       4\n",
              "7   The Coming Woman: A Novel Based on the Life of...  17.93       3\n",
              "8   The Boys in the Boat: Nine Americans and Their...  22.60       4\n",
              "9                                     The Black Maria  52.15       1\n",
              "10     Starving Hearts (Triangular Trade Trilogy, #1)  13.99       2\n",
              "11                              Shakespeare's Sonnets  20.66       4\n",
              "12                                        Set Me Free  17.46       5\n",
              "13  Scott Pilgrim's Precious Little Life (Scott Pi...  52.29       5\n",
              "14                          Rip it Up and Start Again  35.02       5\n",
              "15  Our Band Could Be Your Life: Scenes from the A...  57.25       3\n",
              "16                                               Olio  23.88       1\n",
              "17  Mesaerion: The Best Science Fiction Stories 18...  37.59       1\n",
              "18                       Libertarianism for Beginners  51.33       2\n",
              "19                            It's Only the Himalayas  45.17       2"
            ],
            "text/html": [
              "\n",
              "  <div id=\"df-ed6a6bd9-206e-460b-9cb5-a85949b1e3f9\">\n",
              "    <div class=\"colab-df-container\">\n",
              "      <div>\n",
              "<style scoped>\n",
              "    .dataframe tbody tr th:only-of-type {\n",
              "        vertical-align: middle;\n",
              "    }\n",
              "\n",
              "    .dataframe tbody tr th {\n",
              "        vertical-align: top;\n",
              "    }\n",
              "\n",
              "    .dataframe thead th {\n",
              "        text-align: right;\n",
              "    }\n",
              "</style>\n",
              "<table border=\"1\" class=\"dataframe\">\n",
              "  <thead>\n",
              "    <tr style=\"text-align: right;\">\n",
              "      <th></th>\n",
              "      <th>Title</th>\n",
              "      <th>Price</th>\n",
              "      <th>Rating</th>\n",
              "    </tr>\n",
              "  </thead>\n",
              "  <tbody>\n",
              "    <tr>\n",
              "      <th>0</th>\n",
              "      <td>A Light in the Attic</td>\n",
              "      <td>51.77</td>\n",
              "      <td>3</td>\n",
              "    </tr>\n",
              "    <tr>\n",
              "      <th>1</th>\n",
              "      <td>Tipping the Velvet</td>\n",
              "      <td>53.74</td>\n",
              "      <td>1</td>\n",
              "    </tr>\n",
              "    <tr>\n",
              "      <th>2</th>\n",
              "      <td>Soumission</td>\n",
              "      <td>50.10</td>\n",
              "      <td>1</td>\n",
              "    </tr>\n",
              "    <tr>\n",
              "      <th>3</th>\n",
              "      <td>Sharp Objects</td>\n",
              "      <td>47.82</td>\n",
              "      <td>4</td>\n",
              "    </tr>\n",
              "    <tr>\n",
              "      <th>4</th>\n",
              "      <td>Sapiens: A Brief History of Humankind</td>\n",
              "      <td>54.23</td>\n",
              "      <td>5</td>\n",
              "    </tr>\n",
              "    <tr>\n",
              "      <th>5</th>\n",
              "      <td>The Requiem Red</td>\n",
              "      <td>22.65</td>\n",
              "      <td>1</td>\n",
              "    </tr>\n",
              "    <tr>\n",
              "      <th>6</th>\n",
              "      <td>The Dirty Little Secrets of Getting Your Dream...</td>\n",
              "      <td>33.34</td>\n",
              "      <td>4</td>\n",
              "    </tr>\n",
              "    <tr>\n",
              "      <th>7</th>\n",
              "      <td>The Coming Woman: A Novel Based on the Life of...</td>\n",
              "      <td>17.93</td>\n",
              "      <td>3</td>\n",
              "    </tr>\n",
              "    <tr>\n",
              "      <th>8</th>\n",
              "      <td>The Boys in the Boat: Nine Americans and Their...</td>\n",
              "      <td>22.60</td>\n",
              "      <td>4</td>\n",
              "    </tr>\n",
              "    <tr>\n",
              "      <th>9</th>\n",
              "      <td>The Black Maria</td>\n",
              "      <td>52.15</td>\n",
              "      <td>1</td>\n",
              "    </tr>\n",
              "    <tr>\n",
              "      <th>10</th>\n",
              "      <td>Starving Hearts (Triangular Trade Trilogy, #1)</td>\n",
              "      <td>13.99</td>\n",
              "      <td>2</td>\n",
              "    </tr>\n",
              "    <tr>\n",
              "      <th>11</th>\n",
              "      <td>Shakespeare's Sonnets</td>\n",
              "      <td>20.66</td>\n",
              "      <td>4</td>\n",
              "    </tr>\n",
              "    <tr>\n",
              "      <th>12</th>\n",
              "      <td>Set Me Free</td>\n",
              "      <td>17.46</td>\n",
              "      <td>5</td>\n",
              "    </tr>\n",
              "    <tr>\n",
              "      <th>13</th>\n",
              "      <td>Scott Pilgrim's Precious Little Life (Scott Pi...</td>\n",
              "      <td>52.29</td>\n",
              "      <td>5</td>\n",
              "    </tr>\n",
              "    <tr>\n",
              "      <th>14</th>\n",
              "      <td>Rip it Up and Start Again</td>\n",
              "      <td>35.02</td>\n",
              "      <td>5</td>\n",
              "    </tr>\n",
              "    <tr>\n",
              "      <th>15</th>\n",
              "      <td>Our Band Could Be Your Life: Scenes from the A...</td>\n",
              "      <td>57.25</td>\n",
              "      <td>3</td>\n",
              "    </tr>\n",
              "    <tr>\n",
              "      <th>16</th>\n",
              "      <td>Olio</td>\n",
              "      <td>23.88</td>\n",
              "      <td>1</td>\n",
              "    </tr>\n",
              "    <tr>\n",
              "      <th>17</th>\n",
              "      <td>Mesaerion: The Best Science Fiction Stories 18...</td>\n",
              "      <td>37.59</td>\n",
              "      <td>1</td>\n",
              "    </tr>\n",
              "    <tr>\n",
              "      <th>18</th>\n",
              "      <td>Libertarianism for Beginners</td>\n",
              "      <td>51.33</td>\n",
              "      <td>2</td>\n",
              "    </tr>\n",
              "    <tr>\n",
              "      <th>19</th>\n",
              "      <td>It's Only the Himalayas</td>\n",
              "      <td>45.17</td>\n",
              "      <td>2</td>\n",
              "    </tr>\n",
              "  </tbody>\n",
              "</table>\n",
              "</div>\n",
              "      <button class=\"colab-df-convert\" onclick=\"convertToInteractive('df-ed6a6bd9-206e-460b-9cb5-a85949b1e3f9')\"\n",
              "              title=\"Convert this dataframe to an interactive table.\"\n",
              "              style=\"display:none;\">\n",
              "        \n",
              "  <svg xmlns=\"http://www.w3.org/2000/svg\" height=\"24px\"viewBox=\"0 0 24 24\"\n",
              "       width=\"24px\">\n",
              "    <path d=\"M0 0h24v24H0V0z\" fill=\"none\"/>\n",
              "    <path d=\"M18.56 5.44l.94 2.06.94-2.06 2.06-.94-2.06-.94-.94-2.06-.94 2.06-2.06.94zm-11 1L8.5 8.5l.94-2.06 2.06-.94-2.06-.94L8.5 2.5l-.94 2.06-2.06.94zm10 10l.94 2.06.94-2.06 2.06-.94-2.06-.94-.94-2.06-.94 2.06-2.06.94z\"/><path d=\"M17.41 7.96l-1.37-1.37c-.4-.4-.92-.59-1.43-.59-.52 0-1.04.2-1.43.59L10.3 9.45l-7.72 7.72c-.78.78-.78 2.05 0 2.83L4 21.41c.39.39.9.59 1.41.59.51 0 1.02-.2 1.41-.59l7.78-7.78 2.81-2.81c.8-.78.8-2.07 0-2.86zM5.41 20L4 18.59l7.72-7.72 1.47 1.35L5.41 20z\"/>\n",
              "  </svg>\n",
              "      </button>\n",
              "      \n",
              "  <style>\n",
              "    .colab-df-container {\n",
              "      display:flex;\n",
              "      flex-wrap:wrap;\n",
              "      gap: 12px;\n",
              "    }\n",
              "\n",
              "    .colab-df-convert {\n",
              "      background-color: #E8F0FE;\n",
              "      border: none;\n",
              "      border-radius: 50%;\n",
              "      cursor: pointer;\n",
              "      display: none;\n",
              "      fill: #1967D2;\n",
              "      height: 32px;\n",
              "      padding: 0 0 0 0;\n",
              "      width: 32px;\n",
              "    }\n",
              "\n",
              "    .colab-df-convert:hover {\n",
              "      background-color: #E2EBFA;\n",
              "      box-shadow: 0px 1px 2px rgba(60, 64, 67, 0.3), 0px 1px 3px 1px rgba(60, 64, 67, 0.15);\n",
              "      fill: #174EA6;\n",
              "    }\n",
              "\n",
              "    [theme=dark] .colab-df-convert {\n",
              "      background-color: #3B4455;\n",
              "      fill: #D2E3FC;\n",
              "    }\n",
              "\n",
              "    [theme=dark] .colab-df-convert:hover {\n",
              "      background-color: #434B5C;\n",
              "      box-shadow: 0px 1px 3px 1px rgba(0, 0, 0, 0.15);\n",
              "      filter: drop-shadow(0px 1px 2px rgba(0, 0, 0, 0.3));\n",
              "      fill: #FFFFFF;\n",
              "    }\n",
              "  </style>\n",
              "\n",
              "      <script>\n",
              "        const buttonEl =\n",
              "          document.querySelector('#df-ed6a6bd9-206e-460b-9cb5-a85949b1e3f9 button.colab-df-convert');\n",
              "        buttonEl.style.display =\n",
              "          google.colab.kernel.accessAllowed ? 'block' : 'none';\n",
              "\n",
              "        async function convertToInteractive(key) {\n",
              "          const element = document.querySelector('#df-ed6a6bd9-206e-460b-9cb5-a85949b1e3f9');\n",
              "          const dataTable =\n",
              "            await google.colab.kernel.invokeFunction('convertToInteractive',\n",
              "                                                     [key], {});\n",
              "          if (!dataTable) return;\n",
              "\n",
              "          const docLinkHtml = 'Like what you see? Visit the ' +\n",
              "            '<a target=\"_blank\" href=https://colab.research.google.com/notebooks/data_table.ipynb>data table notebook</a>'\n",
              "            + ' to learn more about interactive tables.';\n",
              "          element.innerHTML = '';\n",
              "          dataTable['output_type'] = 'display_data';\n",
              "          await google.colab.output.renderOutput(dataTable, element);\n",
              "          const docLink = document.createElement('div');\n",
              "          docLink.innerHTML = docLinkHtml;\n",
              "          element.appendChild(docLink);\n",
              "        }\n",
              "      </script>\n",
              "    </div>\n",
              "  </div>\n",
              "  "
            ]
          },
          "metadata": {},
          "execution_count": 49
        }
      ]
    },
    {
      "cell_type": "code",
      "source": [
        "# scrape more data from other pages\n",
        "max_page = 10\n",
        "\n",
        "pages_url = f'{url}/catalogue/'\n",
        "for page in range(1, max_page+1):\n",
        "  curr_url = f\"{pages_url}page-{page}.html\"\n",
        "  print(curr_url)\n",
        "  "
      ],
      "metadata": {
        "colab": {
          "base_uri": "https://localhost:8080/"
        },
        "id": "hR7S97Utx2Jg",
        "outputId": "20b62b73-c1cd-4765-8ca6-5fd8ca7b6229"
      },
      "execution_count": null,
      "outputs": [
        {
          "output_type": "stream",
          "name": "stdout",
          "text": [
            "http://books.toscrape.com//catalogue/page-1.html\n",
            "http://books.toscrape.com//catalogue/page-2.html\n",
            "http://books.toscrape.com//catalogue/page-3.html\n",
            "http://books.toscrape.com//catalogue/page-4.html\n",
            "http://books.toscrape.com//catalogue/page-5.html\n",
            "http://books.toscrape.com//catalogue/page-6.html\n",
            "http://books.toscrape.com//catalogue/page-7.html\n",
            "http://books.toscrape.com//catalogue/page-8.html\n",
            "http://books.toscrape.com//catalogue/page-9.html\n",
            "http://books.toscrape.com//catalogue/page-10.html\n"
          ]
        }
      ]
    },
    {
      "cell_type": "code",
      "source": [
        "# putting it all together\n",
        "max_page = 10\n",
        "pages_url = f'{url}/catalogue/'\n",
        "books_dict = {\"Title\": [], \"Price\": [], \"Rating\": []}\n",
        "\n",
        "\n",
        "for page in range(1, max_page+1):\n",
        "  # Fetch URL data\n",
        "  curr_url = f\"{pages_url}page-{page}.html\"\n",
        "  response = requests.get(curr_url)\n",
        "  soup = BeautifulSoup(response.content, \"html.parser\")\n",
        " \n",
        "  for book in soup.find_all(\"article\", class_=\"product_pod\"):\n",
        "    books_dict[\"Title\"].append(book.find(\"h3\").find(\"a\").attrs[\"title\"])\n",
        "    books_dict[\"Price\"].append(float(book.find(\"div\", class_=\"product_price\").find(\"p\", class_=\"price_color\").string[1:]))\n",
        "    books_dict[\"Rating\"].append(parse_rating(book.find(\"p\", class_=\"star-rating\").attrs['class']))"
      ],
      "metadata": {
        "id": "98yvUrRwzco4"
      },
      "execution_count": null,
      "outputs": []
    },
    {
      "cell_type": "code",
      "source": [
        "# import requests\n",
        "# from bs4 import BeautifulSoup\n",
        "\n",
        "# def scrape_data(url):\n",
        "#     # Send a GET request to the URL\n",
        "#     response = requests.get(url)\n",
        "    \n",
        "#     # Check if the request was successful\n",
        "#     if response.status_code == 200:\n",
        "#         # Parse the HTML content of the page\n",
        "#         soup = BeautifulSoup(response.content, 'html.parser')\n",
        "        \n",
        "#         # Find all the relevant data using the HTML tags\n",
        "#         data = soup.find_all('p')\n",
        "        \n",
        "#         # Return the data\n",
        "#         return data\n",
        "#     else:\n",
        "#         # Return an error message if the request was not successful\n",
        "#         return \"Error: Could not retrieve data from the URL\"\n",
        "\n",
        "# # Example usage\n",
        "# data = scrape_data(\"http://books.toscrape.com/\")\n",
        "# print(data)\n"
      ],
      "metadata": {
        "id": "jCIVF_oUG4Pl"
      },
      "execution_count": 1,
      "outputs": []
    },
    {
      "cell_type": "code",
      "source": [],
      "metadata": {
        "id": "Uu4Ygj6BP1sl"
      },
      "execution_count": null,
      "outputs": []
    }
  ]
}